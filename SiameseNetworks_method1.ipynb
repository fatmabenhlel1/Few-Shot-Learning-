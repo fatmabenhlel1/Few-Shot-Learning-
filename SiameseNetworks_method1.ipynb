{
 "cells": [
  {
   "cell_type": "code",
   "execution_count": 5,
   "metadata": {},
   "outputs": [],
   "source": [
    "import tensorflow as tf\n",
    "import numpy as np\n",
    "import matplotlib.pyplot as plt\n",
    "import pickle\n",
    "import os\n",
    "from tqdm import tqdm\n",
    "from imageio import imread"
   ]
  },
  {
   "cell_type": "code",
   "execution_count": null,
   "metadata": {},
   "outputs": [],
   "source": []
  },
  {
   "cell_type": "code",
   "execution_count": 6,
   "metadata": {},
   "outputs": [
    {
     "name": "stderr",
     "output_type": "stream",
     "text": [
      "Epoch 1: 100%|██████████| 100/100 [00:05<00:00, 19.72it/s]\n"
     ]
    },
    {
     "name": "stdout",
     "output_type": "stream",
     "text": [
      "Epoch 1 Loss: 0.8827\n"
     ]
    },
    {
     "name": "stderr",
     "output_type": "stream",
     "text": [
      "Epoch 2: 100%|██████████| 100/100 [00:05<00:00, 18.54it/s]\n"
     ]
    },
    {
     "name": "stdout",
     "output_type": "stream",
     "text": [
      "Epoch 2 Loss: 0.4361\n"
     ]
    },
    {
     "name": "stderr",
     "output_type": "stream",
     "text": [
      "Epoch 3: 100%|██████████| 100/100 [00:05<00:00, 17.98it/s]\n"
     ]
    },
    {
     "name": "stdout",
     "output_type": "stream",
     "text": [
      "Epoch 3 Loss: 0.4660\n"
     ]
    },
    {
     "name": "stderr",
     "output_type": "stream",
     "text": [
      "Epoch 4: 100%|██████████| 100/100 [00:05<00:00, 18.74it/s]\n"
     ]
    },
    {
     "name": "stdout",
     "output_type": "stream",
     "text": [
      "Epoch 4 Loss: 0.4171\n"
     ]
    },
    {
     "name": "stderr",
     "output_type": "stream",
     "text": [
      "Epoch 5: 100%|██████████| 100/100 [00:05<00:00, 17.01it/s]\n"
     ]
    },
    {
     "name": "stdout",
     "output_type": "stream",
     "text": [
      "Epoch 5 Loss: 0.3975\n"
     ]
    },
    {
     "name": "stderr",
     "output_type": "stream",
     "text": [
      "Epoch 6: 100%|██████████| 100/100 [00:05<00:00, 18.50it/s]\n"
     ]
    },
    {
     "name": "stdout",
     "output_type": "stream",
     "text": [
      "Epoch 6 Loss: 0.4249\n"
     ]
    },
    {
     "name": "stderr",
     "output_type": "stream",
     "text": [
      "Epoch 7: 100%|██████████| 100/100 [00:05<00:00, 18.15it/s]\n"
     ]
    },
    {
     "name": "stdout",
     "output_type": "stream",
     "text": [
      "Epoch 7 Loss: 0.3968\n"
     ]
    },
    {
     "name": "stderr",
     "output_type": "stream",
     "text": [
      "Epoch 8: 100%|██████████| 100/100 [00:05<00:00, 17.77it/s]\n"
     ]
    },
    {
     "name": "stdout",
     "output_type": "stream",
     "text": [
      "Epoch 8 Loss: 0.3891\n"
     ]
    },
    {
     "name": "stderr",
     "output_type": "stream",
     "text": [
      "Epoch 9: 100%|██████████| 100/100 [00:05<00:00, 18.20it/s]\n"
     ]
    },
    {
     "name": "stdout",
     "output_type": "stream",
     "text": [
      "Epoch 9 Loss: 0.3326\n"
     ]
    },
    {
     "name": "stderr",
     "output_type": "stream",
     "text": [
      "Epoch 10: 100%|██████████| 100/100 [00:05<00:00, 18.45it/s]\n"
     ]
    },
    {
     "name": "stdout",
     "output_type": "stream",
     "text": [
      "Epoch 10 Loss: 0.4171\n"
     ]
    },
    {
     "name": "stderr",
     "output_type": "stream",
     "text": [
      "Epoch 11: 100%|██████████| 100/100 [00:05<00:00, 18.27it/s]\n"
     ]
    },
    {
     "name": "stdout",
     "output_type": "stream",
     "text": [
      "Epoch 11 Loss: 0.3821\n"
     ]
    },
    {
     "name": "stderr",
     "output_type": "stream",
     "text": [
      "Epoch 12: 100%|██████████| 100/100 [00:05<00:00, 18.75it/s]\n"
     ]
    },
    {
     "name": "stdout",
     "output_type": "stream",
     "text": [
      "Epoch 12 Loss: 0.3349\n"
     ]
    },
    {
     "name": "stderr",
     "output_type": "stream",
     "text": [
      "Epoch 13: 100%|██████████| 100/100 [00:05<00:00, 18.25it/s]\n"
     ]
    },
    {
     "name": "stdout",
     "output_type": "stream",
     "text": [
      "Epoch 13 Loss: 0.3550\n"
     ]
    },
    {
     "name": "stderr",
     "output_type": "stream",
     "text": [
      "Epoch 14: 100%|██████████| 100/100 [00:05<00:00, 18.37it/s]\n"
     ]
    },
    {
     "name": "stdout",
     "output_type": "stream",
     "text": [
      "Epoch 14 Loss: 0.3781\n"
     ]
    },
    {
     "name": "stderr",
     "output_type": "stream",
     "text": [
      "Epoch 15: 100%|██████████| 100/100 [00:05<00:00, 18.48it/s]\n"
     ]
    },
    {
     "name": "stdout",
     "output_type": "stream",
     "text": [
      "Epoch 15 Loss: 0.3799\n"
     ]
    },
    {
     "name": "stderr",
     "output_type": "stream",
     "text": [
      "Epoch 16: 100%|██████████| 100/100 [00:05<00:00, 18.33it/s]\n"
     ]
    },
    {
     "name": "stdout",
     "output_type": "stream",
     "text": [
      "Epoch 16 Loss: 0.2972\n"
     ]
    },
    {
     "name": "stderr",
     "output_type": "stream",
     "text": [
      "Epoch 17: 100%|██████████| 100/100 [00:05<00:00, 17.99it/s]\n"
     ]
    },
    {
     "name": "stdout",
     "output_type": "stream",
     "text": [
      "Epoch 17 Loss: 0.3442\n"
     ]
    },
    {
     "name": "stderr",
     "output_type": "stream",
     "text": [
      "Epoch 18: 100%|██████████| 100/100 [00:05<00:00, 16.73it/s]\n"
     ]
    },
    {
     "name": "stdout",
     "output_type": "stream",
     "text": [
      "Epoch 18 Loss: 0.3372\n"
     ]
    },
    {
     "name": "stderr",
     "output_type": "stream",
     "text": [
      "Epoch 19: 100%|██████████| 100/100 [00:05<00:00, 18.19it/s]\n"
     ]
    },
    {
     "name": "stdout",
     "output_type": "stream",
     "text": [
      "Epoch 19 Loss: 0.3537\n"
     ]
    },
    {
     "name": "stderr",
     "output_type": "stream",
     "text": [
      "Epoch 20: 100%|██████████| 100/100 [00:05<00:00, 18.35it/s]\n"
     ]
    },
    {
     "name": "stdout",
     "output_type": "stream",
     "text": [
      "Epoch 20 Loss: 0.3247\n"
     ]
    },
    {
     "name": "stderr",
     "output_type": "stream",
     "text": [
      "Evaluating k=1: 100%|██████████| 1000/1000 [00:25<00:00, 39.29it/s]\n"
     ]
    },
    {
     "name": "stdout",
     "output_type": "stream",
     "text": [
      "k=1 Accuracy: 0.7739\n"
     ]
    },
    {
     "name": "stderr",
     "output_type": "stream",
     "text": [
      "Evaluating k=2: 100%|██████████| 1000/1000 [00:26<00:00, 38.44it/s]\n"
     ]
    },
    {
     "name": "stdout",
     "output_type": "stream",
     "text": [
      "k=2 Accuracy: 0.8435\n"
     ]
    },
    {
     "name": "stderr",
     "output_type": "stream",
     "text": [
      "Evaluating k=3: 100%|██████████| 1000/1000 [00:25<00:00, 39.28it/s]\n"
     ]
    },
    {
     "name": "stdout",
     "output_type": "stream",
     "text": [
      "k=3 Accuracy: 0.8736\n"
     ]
    },
    {
     "name": "stderr",
     "output_type": "stream",
     "text": [
      "Evaluating k=4: 100%|██████████| 1000/1000 [00:25<00:00, 39.29it/s]\n"
     ]
    },
    {
     "name": "stdout",
     "output_type": "stream",
     "text": [
      "k=4 Accuracy: 0.8849\n"
     ]
    },
    {
     "name": "stderr",
     "output_type": "stream",
     "text": [
      "Evaluating k=5: 100%|██████████| 1000/1000 [00:25<00:00, 39.29it/s]\n"
     ]
    },
    {
     "name": "stdout",
     "output_type": "stream",
     "text": [
      "k=5 Accuracy: 0.8963\n"
     ]
    },
    {
     "name": "stderr",
     "output_type": "stream",
     "text": [
      "Evaluating k=6: 100%|██████████| 1000/1000 [00:25<00:00, 39.25it/s]\n"
     ]
    },
    {
     "name": "stdout",
     "output_type": "stream",
     "text": [
      "k=6 Accuracy: 0.8987\n"
     ]
    },
    {
     "data": {
      "image/png": "[encoded data removed]",
      "text/plain": [
       "<Figure size 1000x600 with 1 Axes>"
      ]
     },
     "metadata": {},
     "output_type": "display_data"
    }
   ],
   "source": [
    "def load_and_process_data():\n",
    "    data_path = r\"D:\\DATA\\archive\"\n",
    "    train_folder = os.path.join(data_path, 'images_background')\n",
    "    val_folder = os.path.join(data_path, 'images_evaluation')\n",
    "    save_path = 'SN_fsl\\data_saved'\n",
    "\n",
    "    # Create data directory if not exists\n",
    "    os.makedirs(data_path, exist_ok=True)\n",
    "    os.makedirs(save_path, exist_ok=True)\n",
    "\n",
    "    def loadimgs(path, n=0):\n",
    "        if not os.path.exists(path):\n",
    "            print(f\"Unzipping {os.path.basename(path)}\")\n",
    "            os.chdir(data_path)\n",
    "            os.system(f\"unzip {os.path.basename(path)}.zip\")\n",
    "            os.chdir(\"..\")\n",
    "            \n",
    "        X, y = [], []\n",
    "        lang_dict = {}\n",
    "        curr_y = n\n",
    "        \n",
    "        for alphabet in os.listdir(path):\n",
    "            lang_dict[alphabet] = [curr_y, None]\n",
    "            alphabet_path = os.path.join(path, alphabet)\n",
    "            \n",
    "            for letter in os.listdir(alphabet_path):\n",
    "                letter_path = os.path.join(alphabet_path, letter)\n",
    "                category_images = []\n",
    "                \n",
    "                for filename in os.listdir(letter_path):\n",
    "                    image_path = os.path.join(letter_path, filename)\n",
    "                    image = imread(image_path)\n",
    "                    category_images.append(image)\n",
    "                    y.append(curr_y)\n",
    "                \n",
    "                try:\n",
    "                    X.append(np.stack(category_images))\n",
    "                except ValueError as e:\n",
    "                    print(f\"Error loading {letter_path}: {e}\")\n",
    "                \n",
    "                curr_y += 1\n",
    "                lang_dict[alphabet][1] = curr_y - 1\n",
    "        \n",
    "        return np.stack(X), np.vstack(y), lang_dict\n",
    "\n",
    "    # Load and save training data\n",
    "    if not os.path.exists(os.path.join(save_path, \"train.pickle\")):\n",
    "        print(\"Processing training data...\")\n",
    "        X_train, y_train, lang_train = loadimgs(train_folder)\n",
    "        with open(os.path.join(save_path, \"train.pickle\"), \"wb\") as f:\n",
    "            pickle.dump((X_train, lang_train), f)\n",
    "\n",
    "    # Load and save validation data\n",
    "    if not os.path.exists(os.path.join(save_path, \"val.pickle\")):\n",
    "        print(\"Processing validation data...\")\n",
    "        X_val, y_val, lang_val = loadimgs(val_folder)\n",
    "        with open(os.path.join(save_path, \"val.pickle\"), \"wb\") as f:\n",
    "            pickle.dump((X_val, lang_val), f)\n",
    "\n",
    "    # Load processed data\n",
    "    with open(os.path.join(save_path, \"train.pickle\"), \"rb\") as f:\n",
    "        X_train, lang_train = pickle.load(f)\n",
    "    with open(os.path.join(save_path, \"val.pickle\"), \"rb\") as f:\n",
    "        X_val, lang_val = pickle.load(f)\n",
    "\n",
    "    # Preprocessing function\n",
    "    def preprocess(images):\n",
    "        images = 1.0 - images / 255.0  # Invert and normalize\n",
    "        resized = np.zeros((images.shape[0], 28, 28))\n",
    "        for i in range(images.shape[0]):\n",
    "            resized[i] = tf.image.resize(images[i][..., None], (28, 28)).numpy().squeeze()\n",
    "        return resized[..., None]  # Add channel dimension\n",
    "\n",
    "    # Process datasets\n",
    "    X_train = preprocess(X_train.reshape(-1, 105, 105))\n",
    "    X_train = X_train.reshape(-1, 20, 28, 28, 1)\n",
    "    X_val = preprocess(X_val.reshape(-1, 105, 105))\n",
    "    X_val = X_val.reshape(-1, 20, 28, 28, 1)\n",
    "\n",
    "    return X_train, X_val\n",
    "\n",
    "# Load and preprocess data\n",
    "X_train, X_val = load_and_process_data()\n",
    "\n",
    "# ----------------------------\n",
    "# Data Augmentation (Rotations)\n",
    "# ----------------------------\n",
    "def augment_with_rotations(data):\n",
    "    rotated_data = []\n",
    "    for char in data:\n",
    "        for k in range(4):  # 0°, 90°, 180°, 270°\n",
    "            rotated_char = np.rot90(char, k=k, axes=(1,2))\n",
    "            rotated_data.append(rotated_char)\n",
    "    return np.array(rotated_data)\n",
    "\n",
    "X_train = augment_with_rotations(X_train)\n",
    "X_val = augment_with_rotations(X_val)\n",
    "\n",
    "# ----------------------------\n",
    "# Model Architecture\n",
    "# ----------------------------\n",
    "def create_prototypical_net():\n",
    "    return tf.keras.Sequential([\n",
    "        tf.keras.layers.Conv2D(64, 3, padding='same', activation='relu'),\n",
    "        tf.keras.layers.BatchNormalization(),\n",
    "        tf.keras.layers.MaxPool2D(2),\n",
    "        tf.keras.layers.Conv2D(64, 3, padding='same', activation='relu'),\n",
    "        tf.keras.layers.BatchNormalization(),\n",
    "        tf.keras.layers.MaxPool2D(2),\n",
    "        tf.keras.layers.Conv2D(64, 3, padding='same', activation='relu'),\n",
    "        tf.keras.layers.BatchNormalization(),\n",
    "        tf.keras.layers.MaxPool2D(2),\n",
    "        tf.keras.layers.Flatten()\n",
    "    ])\n",
    "\n",
    "encoder = create_prototypical_net()\n",
    "\n",
    "# ----------------------------\n",
    "# Training Setup\n",
    "# ----------------------------\n",
    "def generate_episode(dataset, n_way=3, k_shot=1, query_samples=15):\n",
    "    classes = np.random.choice(len(dataset), n_way, replace=False)\n",
    "    support, query = [], []\n",
    "    s_labels, q_labels = [], []\n",
    "    \n",
    "    for class_idx, cls in enumerate(classes):\n",
    "        samples = dataset[cls]\n",
    "        max_samples = len(samples)\n",
    "        \n",
    "        # Ensure we don't request more samples than available\n",
    "        query_samples_adj = min(query_samples, max_samples - k_shot)\n",
    "        \n",
    "        indices = np.random.choice(max_samples, k_shot + query_samples_adj, replace=False)\n",
    "        \n",
    "        support.extend(samples[indices[:k_shot]])\n",
    "        query.extend(samples[indices[k_shot:k_shot+query_samples_adj]])\n",
    "        \n",
    "        s_labels.extend([class_idx] * k_shot)\n",
    "        q_labels.extend([class_idx] * query_samples_adj)\n",
    "        \n",
    "    return (np.array(support), np.array(s_labels),\n",
    "            np.array(query), np.array(q_labels))\n",
    "\n",
    "optimizer = tf.keras.optimizers.Adam(1e-3)\n",
    "loss_fn = tf.keras.losses.SparseCategoricalCrossentropy(from_logits=True)\n",
    "\n",
    "# ----------------------------\n",
    "# Training Loop\n",
    "# ----------------------------\n",
    "def train_step(support, s_labels, query, q_labels):\n",
    "    with tf.GradientTape() as tape:\n",
    "        support_emb = encoder(support)\n",
    "        prototypes = tf.stack([tf.reduce_mean(support_emb[s_labels == i], axis=0) for i in range(3)])\n",
    "        \n",
    "        query_emb = encoder(query)\n",
    "        logits = -tf.reduce_sum(tf.square(query_emb[:, None] - prototypes[None, :]), axis=-1)\n",
    "        loss = loss_fn(q_labels, logits)\n",
    "        \n",
    "    grads = tape.gradient(loss, encoder.trainable_variables)\n",
    "    optimizer.apply_gradients(zip(grads, encoder.trainable_variables))\n",
    "    return loss\n",
    "\n",
    "epochs = 20\n",
    "for epoch in range(epochs):\n",
    "    epoch_loss = 0\n",
    "    for _ in tqdm(range(100), desc=f\"Epoch {epoch+1}\"):\n",
    "        k = np.random.randint(1, 7)\n",
    "        # Use adjusted query_samples=14 to accommodate k=6\n",
    "        support, s_labels, query, q_labels = generate_episode(\n",
    "            X_train, \n",
    "            k_shot=k, \n",
    "            query_samples=14  # Allows k up to 6 (6+14=20)\n",
    "        )\n",
    "        loss = train_step(support, s_labels, query, q_labels)\n",
    "        epoch_loss += loss.numpy()\n",
    "    print(f\"Epoch {epoch+1} Loss: {epoch_loss/100:.4f}\")\n",
    "\n",
    "# ----------------------------\n",
    "# Evaluation\n",
    "# ----------------------------\n",
    "results = {}\n",
    "for k in range(1, 7):\n",
    "    accuracies = []\n",
    "    for _ in tqdm(range(1000), desc=f\"Evaluating k={k}\"):\n",
    "        # Use query_samples=5 for evaluation (k+5 <= 20)\n",
    "        support, s_labels, query, q_labels = generate_episode(\n",
    "            X_val, \n",
    "            k_shot=k, \n",
    "            query_samples=5\n",
    "        )\n",
    "        \n",
    "        support_emb = encoder(support)\n",
    "        prototypes = tf.stack([tf.reduce_mean(support_emb[s_labels == i], axis=0) for i in range(3)])\n",
    "        \n",
    "        query_emb = encoder(query)\n",
    "        preds = tf.argmin(tf.norm(query_emb[:, None] - prototypes, axis=-1), axis=1)\n",
    "        accuracies.append(tf.reduce_mean(tf.cast(preds == q_labels, tf.float32)).numpy())\n",
    "    \n",
    "    results[k] = np.mean(accuracies)\n",
    "    print(f\"k={k} Accuracy: {results[k]:.4f}\")\n",
    "\n",
    "# ----------------------------\n",
    "# Visualization\n",
    "# ----------------------------\n",
    "plt.figure(figsize=(10, 6))\n",
    "plt.plot(results.keys(), results.values(), marker='o', linestyle='--')\n",
    "plt.title('3-Way k-Shot Learning Performance')\n",
    "plt.xlabel('Number of Support Samples (k)')\n",
    "plt.ylabel('Accuracy')\n",
    "plt.xticks(list(results.keys()))\n",
    "plt.grid(True)\n",
    "plt.show()"
   ]
  }
 ],
 "metadata": {
  "kernelspec": {
   "display_name": "Python 3",
   "language": "python",
   "name": "python3"
  },
  "language_info": {
   "codemirror_mode": {
    "name": "ipython",
    "version": 3
   },
   "file_extension": ".py",
   "mimetype": "text/x-python",
   "name": "python",
   "nbconvert_exporter": "python",
   "pygments_lexer": "ipython3",
   "version": "3.12.6"
  }
 },
 "nbformat": 4,
 "nbformat_minor": 2
}
