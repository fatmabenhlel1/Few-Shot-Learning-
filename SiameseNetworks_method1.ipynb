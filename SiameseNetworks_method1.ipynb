{
 "cells": [
  {
   "cell_type": "code",
   "execution_count": 3,
   "metadata": {},
   "outputs": [],
   "source": [
    "import tensorflow as tf\n",
    "import numpy as np\n",
    "import matplotlib.pyplot as plt\n",
    "import pickle\n",
    "import os\n",
    "from tqdm import tqdm\n",
    "from imageio import imread"
   ]
  },
  {
   "cell_type": "code",
   "execution_count": null,
   "metadata": {},
   "outputs": [],
   "source": []
  },
  {
   "cell_type": "code",
   "execution_count": 4,
   "metadata": {},
   "outputs": [
    {
     "name": "stdout",
     "output_type": "stream",
     "text": [
      "Processing training data...\n"
     ]
    },
    {
     "name": "stderr",
     "output_type": "stream",
     "text": [
      "C:\\Users\\Mehdi\\AppData\\Local\\Temp\\ipykernel_22544\\379676906.py:32: DeprecationWarning: Starting with ImageIO v3 the behavior of this function will switch to that of iio.v3.imread. To keep the current behavior (and make this warning disappear) use `import imageio.v2 as imageio` or call `imageio.v2.imread` directly.\n",
      "  image = imread(image_path)\n"
     ]
    },
    {
     "name": "stdout",
     "output_type": "stream",
     "text": [
      "Processing validation data...\n"
     ]
    },
    {
     "name": "stderr",
     "output_type": "stream",
     "text": [
      "Epoch 1: 100%|██████████| 100/100 [00:09<00:00, 10.37it/s]\n"
     ]
    },
    {
     "name": "stdout",
     "output_type": "stream",
     "text": [
      "Epoch 1 Loss: 0.9412\n"
     ]
    },
    {
     "name": "stderr",
     "output_type": "stream",
     "text": [
      "Epoch 2: 100%|██████████| 100/100 [00:04<00:00, 20.12it/s]\n"
     ]
    },
    {
     "name": "stdout",
     "output_type": "stream",
     "text": [
      "Epoch 2 Loss: 0.5089\n"
     ]
    },
    {
     "name": "stderr",
     "output_type": "stream",
     "text": [
      "Epoch 3: 100%|██████████| 100/100 [00:05<00:00, 19.61it/s]\n"
     ]
    },
    {
     "name": "stdout",
     "output_type": "stream",
     "text": [
      "Epoch 3 Loss: 0.5272\n"
     ]
    },
    {
     "name": "stderr",
     "output_type": "stream",
     "text": [
      "Epoch 4: 100%|██████████| 100/100 [00:05<00:00, 19.15it/s]\n"
     ]
    },
    {
     "name": "stdout",
     "output_type": "stream",
     "text": [
      "Epoch 4 Loss: 0.3924\n"
     ]
    },
    {
     "name": "stderr",
     "output_type": "stream",
     "text": [
      "Epoch 5: 100%|██████████| 100/100 [00:05<00:00, 17.60it/s]\n"
     ]
    },
    {
     "name": "stdout",
     "output_type": "stream",
     "text": [
      "Epoch 5 Loss: 0.4214\n"
     ]
    },
    {
     "name": "stderr",
     "output_type": "stream",
     "text": [
      "Epoch 6: 100%|██████████| 100/100 [00:04<00:00, 20.88it/s]\n"
     ]
    },
    {
     "name": "stdout",
     "output_type": "stream",
     "text": [
      "Epoch 6 Loss: 0.4332\n"
     ]
    },
    {
     "name": "stderr",
     "output_type": "stream",
     "text": [
      "Epoch 7: 100%|██████████| 100/100 [00:04<00:00, 20.22it/s]\n"
     ]
    },
    {
     "name": "stdout",
     "output_type": "stream",
     "text": [
      "Epoch 7 Loss: 0.3723\n"
     ]
    },
    {
     "name": "stderr",
     "output_type": "stream",
     "text": [
      "Epoch 8: 100%|██████████| 100/100 [00:05<00:00, 19.92it/s]\n"
     ]
    },
    {
     "name": "stdout",
     "output_type": "stream",
     "text": [
      "Epoch 8 Loss: 0.4138\n"
     ]
    },
    {
     "name": "stderr",
     "output_type": "stream",
     "text": [
      "Epoch 9: 100%|██████████| 100/100 [00:05<00:00, 19.96it/s]\n"
     ]
    },
    {
     "name": "stdout",
     "output_type": "stream",
     "text": [
      "Epoch 9 Loss: 0.3350\n"
     ]
    },
    {
     "name": "stderr",
     "output_type": "stream",
     "text": [
      "Epoch 10: 100%|██████████| 100/100 [00:05<00:00, 19.46it/s]\n"
     ]
    },
    {
     "name": "stdout",
     "output_type": "stream",
     "text": [
      "Epoch 10 Loss: 0.3866\n"
     ]
    },
    {
     "name": "stderr",
     "output_type": "stream",
     "text": [
      "Epoch 11: 100%|██████████| 100/100 [00:05<00:00, 19.96it/s]\n"
     ]
    },
    {
     "name": "stdout",
     "output_type": "stream",
     "text": [
      "Epoch 11 Loss: 0.3928\n"
     ]
    },
    {
     "name": "stderr",
     "output_type": "stream",
     "text": [
      "Epoch 12: 100%|██████████| 100/100 [00:04<00:00, 20.06it/s]\n"
     ]
    },
    {
     "name": "stdout",
     "output_type": "stream",
     "text": [
      "Epoch 12 Loss: 0.3911\n"
     ]
    },
    {
     "name": "stderr",
     "output_type": "stream",
     "text": [
      "Epoch 13: 100%|██████████| 100/100 [00:05<00:00, 19.32it/s]\n"
     ]
    },
    {
     "name": "stdout",
     "output_type": "stream",
     "text": [
      "Epoch 13 Loss: 0.3843\n"
     ]
    },
    {
     "name": "stderr",
     "output_type": "stream",
     "text": [
      "Epoch 14: 100%|██████████| 100/100 [00:04<00:00, 21.31it/s]\n"
     ]
    },
    {
     "name": "stdout",
     "output_type": "stream",
     "text": [
      "Epoch 14 Loss: 0.3716\n"
     ]
    },
    {
     "name": "stderr",
     "output_type": "stream",
     "text": [
      "Epoch 15: 100%|██████████| 100/100 [00:04<00:00, 21.18it/s]\n"
     ]
    },
    {
     "name": "stdout",
     "output_type": "stream",
     "text": [
      "Epoch 15 Loss: 0.4146\n"
     ]
    },
    {
     "name": "stderr",
     "output_type": "stream",
     "text": [
      "Epoch 16: 100%|██████████| 100/100 [00:04<00:00, 22.22it/s]\n"
     ]
    },
    {
     "name": "stdout",
     "output_type": "stream",
     "text": [
      "Epoch 16 Loss: 0.3942\n"
     ]
    },
    {
     "name": "stderr",
     "output_type": "stream",
     "text": [
      "Epoch 17: 100%|██████████| 100/100 [00:04<00:00, 21.66it/s]\n"
     ]
    },
    {
     "name": "stdout",
     "output_type": "stream",
     "text": [
      "Epoch 17 Loss: 0.3319\n"
     ]
    },
    {
     "name": "stderr",
     "output_type": "stream",
     "text": [
      "Epoch 18: 100%|██████████| 100/100 [00:04<00:00, 21.60it/s]\n"
     ]
    },
    {
     "name": "stdout",
     "output_type": "stream",
     "text": [
      "Epoch 18 Loss: 0.3876\n"
     ]
    },
    {
     "name": "stderr",
     "output_type": "stream",
     "text": [
      "Epoch 19: 100%|██████████| 100/100 [00:04<00:00, 21.61it/s]\n"
     ]
    },
    {
     "name": "stdout",
     "output_type": "stream",
     "text": [
      "Epoch 19 Loss: 0.3376\n"
     ]
    },
    {
     "name": "stderr",
     "output_type": "stream",
     "text": [
      "Epoch 20: 100%|██████████| 100/100 [00:04<00:00, 21.70it/s]\n"
     ]
    },
    {
     "name": "stdout",
     "output_type": "stream",
     "text": [
      "Epoch 20 Loss: 0.3359\n"
     ]
    },
    {
     "name": "stderr",
     "output_type": "stream",
     "text": [
      "Evaluating k=1: 100%|██████████| 1000/1000 [00:19<00:00, 51.43it/s]\n"
     ]
    },
    {
     "name": "stdout",
     "output_type": "stream",
     "text": [
      "k=1 Accuracy: 0.7832\n"
     ]
    },
    {
     "name": "stderr",
     "output_type": "stream",
     "text": [
      "Evaluating k=2: 100%|██████████| 1000/1000 [00:19<00:00, 50.45it/s]\n"
     ]
    },
    {
     "name": "stdout",
     "output_type": "stream",
     "text": [
      "k=2 Accuracy: 0.8451\n"
     ]
    },
    {
     "name": "stderr",
     "output_type": "stream",
     "text": [
      "Evaluating k=3: 100%|██████████| 1000/1000 [00:18<00:00, 52.72it/s]\n"
     ]
    },
    {
     "name": "stdout",
     "output_type": "stream",
     "text": [
      "k=3 Accuracy: 0.8821\n"
     ]
    },
    {
     "name": "stderr",
     "output_type": "stream",
     "text": [
      "Evaluating k=4: 100%|██████████| 1000/1000 [00:19<00:00, 52.11it/s]\n"
     ]
    },
    {
     "name": "stdout",
     "output_type": "stream",
     "text": [
      "k=4 Accuracy: 0.8988\n"
     ]
    },
    {
     "name": "stderr",
     "output_type": "stream",
     "text": [
      "Evaluating k=5: 100%|██████████| 1000/1000 [00:19<00:00, 52.38it/s]\n"
     ]
    },
    {
     "name": "stdout",
     "output_type": "stream",
     "text": [
      "k=5 Accuracy: 0.9031\n"
     ]
    },
    {
     "name": "stderr",
     "output_type": "stream",
     "text": [
      "Evaluating k=6: 100%|██████████| 1000/1000 [00:19<00:00, 51.55it/s]\n"
     ]
    },
    {
     "name": "stdout",
     "output_type": "stream",
     "text": [
      "k=6 Accuracy: 0.9132\n"
     ]
    },
    {
     "data": {
      "image/png": "[encoded data removed]",
      "text/plain": [
       "<Figure size 1000x600 with 1 Axes>"
      ]
     },
     "metadata": {},
     "output_type": "display_data"
    }
   ],
   "source": [
    "def load_and_process_data():\n",
    "    data_path = r\"D:\\DATA\\archive\"\n",
    "    train_folder = os.path.join(data_path, 'images_background')\n",
    "    val_folder = os.path.join(data_path, 'images_evaluation')\n",
    "    save_path = 'SN_fsl\\data_saved'\n",
    "\n",
    "    # Create data directory if not exists\n",
    "    os.makedirs(data_path, exist_ok=True)\n",
    "    os.makedirs(save_path, exist_ok=True)\n",
    "\n",
    "    def loadimgs(path, n=0):\n",
    "        if not os.path.exists(path):\n",
    "            print(f\"Unzipping {os.path.basename(path)}\")\n",
    "            os.chdir(data_path)\n",
    "            os.system(f\"unzip {os.path.basename(path)}.zip\")\n",
    "            os.chdir(\"..\")\n",
    "            \n",
    "        X, y = [], []\n",
    "        lang_dict = {}\n",
    "        curr_y = n\n",
    "        \n",
    "        for alphabet in os.listdir(path):\n",
    "            lang_dict[alphabet] = [curr_y, None]\n",
    "            alphabet_path = os.path.join(path, alphabet)\n",
    "            \n",
    "            for letter in os.listdir(alphabet_path):\n",
    "                letter_path = os.path.join(alphabet_path, letter)\n",
    "                category_images = []\n",
    "                \n",
    "                for filename in os.listdir(letter_path):\n",
    "                    image_path = os.path.join(letter_path, filename)\n",
    "                    image = imread(image_path)\n",
    "                    category_images.append(image)\n",
    "                    y.append(curr_y)\n",
    "                \n",
    "                try:\n",
    "                    X.append(np.stack(category_images))\n",
    "                except ValueError as e:\n",
    "                    print(f\"Error loading {letter_path}: {e}\")\n",
    "                \n",
    "                curr_y += 1\n",
    "                lang_dict[alphabet][1] = curr_y - 1\n",
    "        \n",
    "        return np.stack(X), np.vstack(y), lang_dict\n",
    "\n",
    "    # Load and save training data\n",
    "    if not os.path.exists(os.path.join(save_path, \"train.pickle\")):\n",
    "        print(\"Processing training data...\")\n",
    "        X_train, y_train, lang_train = loadimgs(train_folder)\n",
    "        with open(os.path.join(save_path, \"train.pickle\"), \"wb\") as f:\n",
    "            pickle.dump((X_train, lang_train), f)\n",
    "\n",
    "    # Load and save validation data\n",
    "    if not os.path.exists(os.path.join(save_path, \"val.pickle\")):\n",
    "        print(\"Processing validation data...\")\n",
    "        X_val, y_val, lang_val = loadimgs(val_folder)\n",
    "        with open(os.path.join(save_path, \"val.pickle\"), \"wb\") as f:\n",
    "            pickle.dump((X_val, lang_val), f)\n",
    "\n",
    "    # Load processed data\n",
    "    with open(os.path.join(save_path, \"train.pickle\"), \"rb\") as f:\n",
    "        X_train, lang_train = pickle.load(f)\n",
    "    with open(os.path.join(save_path, \"val.pickle\"), \"rb\") as f:\n",
    "        X_val, lang_val = pickle.load(f)\n",
    "\n",
    "    # Preprocessing function\n",
    "    def preprocess(images):\n",
    "        images = 1.0 - images / 255.0  # Invert and normalize\n",
    "        resized = np.zeros((images.shape[0], 28, 28))\n",
    "        for i in range(images.shape[0]):\n",
    "            resized[i] = tf.image.resize(images[i][..., None], (28, 28)).numpy().squeeze()\n",
    "        return resized[..., None]  # Add channel dimension\n",
    "\n",
    "    # Process datasets\n",
    "    X_train = preprocess(X_train.reshape(-1, 105, 105))\n",
    "    X_train = X_train.reshape(-1, 20, 28, 28, 1)\n",
    "    X_val = preprocess(X_val.reshape(-1, 105, 105))\n",
    "    X_val = X_val.reshape(-1, 20, 28, 28, 1)\n",
    "\n",
    "    return X_train, X_val\n",
    "\n",
    "# Load and preprocess data\n",
    "X_train, X_val = load_and_process_data()\n",
    "\n",
    "# ----------------------------\n",
    "# Data Augmentation (Rotations)\n",
    "# ----------------------------\n",
    "def augment_with_rotations(data):\n",
    "    rotated_data = []\n",
    "    for char in data:\n",
    "        for k in range(4):  # 0°, 90°, 180°, 270°\n",
    "            rotated_char = np.rot90(char, k=k, axes=(1,2))\n",
    "            rotated_data.append(rotated_char)\n",
    "    return np.array(rotated_data)\n",
    "\n",
    "X_train = augment_with_rotations(X_train)\n",
    "X_val = augment_with_rotations(X_val)\n",
    "\n",
    "# ----------------------------\n",
    "# Model Architecture\n",
    "# ----------------------------\n",
    "def create_prototypical_net():\n",
    "    return tf.keras.Sequential([\n",
    "        tf.keras.layers.Conv2D(64, 3, padding='same', activation='relu'),\n",
    "        tf.keras.layers.BatchNormalization(),\n",
    "        tf.keras.layers.MaxPool2D(2),\n",
    "        tf.keras.layers.Conv2D(64, 3, padding='same', activation='relu'),\n",
    "        tf.keras.layers.BatchNormalization(),\n",
    "        tf.keras.layers.MaxPool2D(2),\n",
    "        tf.keras.layers.Conv2D(64, 3, padding='same', activation='relu'),\n",
    "        tf.keras.layers.BatchNormalization(),\n",
    "        tf.keras.layers.MaxPool2D(2),\n",
    "        tf.keras.layers.Flatten()\n",
    "    ])\n",
    "\n",
    "encoder = create_prototypical_net()\n",
    "\n",
    "# ----------------------------\n",
    "# Training Setup\n",
    "# ----------------------------\n",
    "def generate_episode(dataset, n_way=3, k_shot=1, query_samples=15):\n",
    "    classes = np.random.choice(len(dataset), n_way, replace=False)\n",
    "    support, query = [], []\n",
    "    s_labels, q_labels = [], []\n",
    "    \n",
    "    for class_idx, cls in enumerate(classes):\n",
    "        samples = dataset[cls]\n",
    "        max_samples = len(samples)\n",
    "        \n",
    "        # Ensure we don't request more samples than available\n",
    "        query_samples_adj = min(query_samples, max_samples - k_shot)\n",
    "        \n",
    "        indices = np.random.choice(max_samples, k_shot + query_samples_adj, replace=False)\n",
    "        \n",
    "        support.extend(samples[indices[:k_shot]])\n",
    "        query.extend(samples[indices[k_shot:k_shot+query_samples_adj]])\n",
    "        \n",
    "        s_labels.extend([class_idx] * k_shot)\n",
    "        q_labels.extend([class_idx] * query_samples_adj)\n",
    "        \n",
    "    return (np.array(support), np.array(s_labels),\n",
    "            np.array(query), np.array(q_labels))\n",
    "\n",
    "optimizer = tf.keras.optimizers.Adam(1e-3)\n",
    "loss_fn = tf.keras.losses.SparseCategoricalCrossentropy(from_logits=True)\n",
    "\n",
    "# ----------------------------\n",
    "# Training Loop\n",
    "# ----------------------------\n",
    "def train_step(support, s_labels, query, q_labels):\n",
    "    with tf.GradientTape() as tape:\n",
    "        support_emb = encoder(support)\n",
    "        prototypes = tf.stack([tf.reduce_mean(support_emb[s_labels == i], axis=0) for i in range(3)])\n",
    "        \n",
    "        query_emb = encoder(query)\n",
    "        logits = -tf.reduce_sum(tf.square(query_emb[:, None] - prototypes[None, :]), axis=-1)\n",
    "        loss = loss_fn(q_labels, logits)\n",
    "        \n",
    "    grads = tape.gradient(loss, encoder.trainable_variables)\n",
    "    optimizer.apply_gradients(zip(grads, encoder.trainable_variables))\n",
    "    return loss\n",
    "\n",
    "epochs = 20\n",
    "for epoch in range(epochs):\n",
    "    epoch_loss = 0\n",
    "    for _ in tqdm(range(100), desc=f\"Epoch {epoch+1}\"):\n",
    "        k = np.random.randint(1, 7)\n",
    "        # Use adjusted query_samples=14 to accommodate k=6\n",
    "        support, s_labels, query, q_labels = generate_episode(\n",
    "            X_train, \n",
    "            k_shot=k, \n",
    "            query_samples=14  # Allows k up to 6 (6+14=20)\n",
    "        )\n",
    "        loss = train_step(support, s_labels, query, q_labels)\n",
    "        epoch_loss += loss.numpy()\n",
    "    print(f\"Epoch {epoch+1} Loss: {epoch_loss/100:.4f}\")\n",
    "\n",
    "# ----------------------------\n",
    "# Evaluation\n",
    "# ----------------------------\n",
    "results = {}\n",
    "for k in range(1, 7):\n",
    "    accuracies = []\n",
    "    for _ in tqdm(range(1000), desc=f\"Evaluating k={k}\"):\n",
    "        # Use query_samples=5 for evaluation (k+5 <= 20)\n",
    "        support, s_labels, query, q_labels = generate_episode(\n",
    "            X_val, \n",
    "            k_shot=k, \n",
    "            query_samples=5\n",
    "        )\n",
    "        \n",
    "        support_emb = encoder(support)\n",
    "        prototypes = tf.stack([tf.reduce_mean(support_emb[s_labels == i], axis=0) for i in range(3)])\n",
    "        \n",
    "        query_emb = encoder(query)\n",
    "        preds = tf.argmin(tf.norm(query_emb[:, None] - prototypes, axis=-1), axis=1)\n",
    "        accuracies.append(tf.reduce_mean(tf.cast(preds == q_labels, tf.float32)).numpy())\n",
    "    \n",
    "    results[k] = np.mean(accuracies)\n",
    "    print(f\"k={k} Accuracy: {results[k]:.4f}\")\n",
    "\n",
    "# ----------------------------\n",
    "# Visualization\n",
    "# ----------------------------\n",
    "plt.figure(figsize=(10, 6))\n",
    "plt.plot(results.keys(), results.values(), marker='o', linestyle='--')\n",
    "plt.title('3-Way k-Shot Learning Performance')\n",
    "plt.xlabel('Number of Support Samples (k)')\n",
    "plt.ylabel('Accuracy')\n",
    "plt.xticks(list(results.keys()))\n",
    "plt.grid(True)\n",
    "plt.show()"
   ]
  },
  {
   "cell_type": "code",
   "execution_count": 6,
   "metadata": {},
   "outputs": [
    {
     "name": "stdout",
     "output_type": "stream",
     "text": [
      "\n",
      "Evaluating k-shot performance...\n",
      "\n",
      "Final Evaluation Results:\n",
      "k=1:\n",
      "  Accuracy:  0.7779\n",
      "  Precision: 0.8038\n",
      "  Recall:    0.7779\n",
      "  F1-Score:  0.7887\n",
      "----------------------\n",
      "k=2:\n",
      "  Accuracy:  0.8513\n",
      "  Precision: 0.8735\n",
      "  Recall:    0.8513\n",
      "  F1-Score:  0.8616\n",
      "----------------------\n",
      "k=3:\n",
      "  Accuracy:  0.8759\n",
      "  Precision: 0.8936\n",
      "  Recall:    0.8759\n",
      "  F1-Score:  0.8843\n",
      "----------------------\n",
      "k=4:\n",
      "  Accuracy:  0.8896\n",
      "  Precision: 0.9056\n",
      "  Recall:    0.8896\n",
      "  F1-Score:  0.8973\n",
      "----------------------\n",
      "k=5:\n",
      "  Accuracy:  0.9005\n",
      "  Precision: 0.9154\n",
      "  Recall:    0.9005\n",
      "  F1-Score:  0.9077\n",
      "----------------------\n",
      "k=6:\n",
      "  Accuracy:  0.9081\n",
      "  Precision: 0.9230\n",
      "  Recall:    0.9081\n",
      "  F1-Score:  0.9153\n",
      "----------------------\n"
     ]
    }
   ],
   "source": [
    "def evaluate_k_shot(encoder, dataset, k_shot=1, n_way=3, query_samples=5, test_episodes=1000):\n",
    "    accuracies = []\n",
    "    precisions = []\n",
    "    recalls = []\n",
    "    f1_scores = []\n",
    "    \n",
    "    for _ in range(test_episodes):\n",
    "        # Generate episode\n",
    "        support, s_labels, query, q_labels = generate_episode(\n",
    "            dataset, \n",
    "            k_shot=k_shot,\n",
    "            n_way=n_way,\n",
    "            query_samples=query_samples\n",
    "        )\n",
    "        \n",
    "        # Get embeddings and prototypes\n",
    "        support_emb = encoder(support)\n",
    "        prototypes = tf.stack([tf.reduce_mean(support_emb[s_labels == i], axis=0) \n",
    "                              for i in range(n_way)])\n",
    "        \n",
    "        # Calculate distances and predictions\n",
    "        query_emb = encoder(query)\n",
    "        distances = tf.norm(query_emb[:, None] - prototypes, axis=-1)\n",
    "        preds = tf.argmin(distances, axis=1).numpy()\n",
    "        true_labels = q_labels\n",
    "        \n",
    "        # Initialize metrics storage\n",
    "        tp = np.zeros(n_way)\n",
    "        fp = np.zeros(n_way)\n",
    "        fn = np.zeros(n_way)\n",
    "        \n",
    "        # Calculate per-class statistics\n",
    "        for cls in range(n_way):\n",
    "            tp[cls] = np.sum((preds == cls) & (true_labels == cls))\n",
    "            fp[cls] = np.sum((preds == cls) & (true_labels != cls))\n",
    "            fn[cls] = np.sum((true_labels == cls) & (preds != cls))\n",
    "        \n",
    "        # Calculate metrics with epsilon to avoid division by zero\n",
    "        epsilon = 1e-7\n",
    "        precision = np.mean([\n",
    "            tp[cls] / (tp[cls] + fp[cls] + epsilon)\n",
    "            for cls in range(n_way)\n",
    "        ])\n",
    "        recall = np.mean([\n",
    "            tp[cls] / (tp[cls] + fn[cls] + epsilon)\n",
    "            for cls in range(n_way)\n",
    "        ])\n",
    "        f1 = 2 * (precision * recall) / (precision + recall + epsilon)\n",
    "        \n",
    "        # Store metrics\n",
    "        accuracies.append(np.mean(preds == true_labels))\n",
    "        precisions.append(precision)\n",
    "        recalls.append(recall)\n",
    "        f1_scores.append(f1)\n",
    "    \n",
    "    return {\n",
    "        'accuracy': np.mean(accuracies),\n",
    "        'precision': np.mean(precisions),\n",
    "        'recall': np.mean(recalls),\n",
    "        'f1': np.mean(f1_scores)\n",
    "    }\n",
    "\n",
    "# Updated evaluation section\n",
    "print(\"\\nEvaluating k-shot performance...\")\n",
    "results = {}\n",
    "for k in range(1, 7):\n",
    "    metrics = evaluate_k_shot(\n",
    "        encoder, \n",
    "        X_val,\n",
    "        k_shot=k,\n",
    "        query_samples=5,\n",
    "        test_episodes=1000\n",
    "    )\n",
    "    results[k] = metrics\n",
    "\n",
    "# Display formatted results\n",
    "print(\"\\nFinal Evaluation Results:\")\n",
    "for k, metrics in results.items():\n",
    "    print(f\"k={k}:\")\n",
    "    print(f\"  Accuracy:  {metrics['accuracy']:.4f}\")\n",
    "    print(f\"  Precision: {metrics['precision']:.4f}\")\n",
    "    print(f\"  Recall:    {metrics['recall']:.4f}\")\n",
    "    print(f\"  F1-Score:  {metrics['f1']:.4f}\")\n",
    "    print(\"----------------------\")"
   ]
  }
 ],
 "metadata": {
  "kernelspec": {
   "display_name": "Python 3",
   "language": "python",
   "name": "python3"
  },
  "language_info": {
   "codemirror_mode": {
    "name": "ipython",
    "version": 3
   },
   "file_extension": ".py",
   "mimetype": "text/x-python",
   "name": "python",
   "nbconvert_exporter": "python",
   "pygments_lexer": "ipython3",
   "version": "3.10.14"
  }
 },
 "nbformat": 4,
 "nbformat_minor": 2
}
